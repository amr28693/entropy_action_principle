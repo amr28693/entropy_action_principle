{
 "cells": [
  {
   "cell_type": "code",
   "execution_count": 6,
   "id": "27ded7bb-17ec-4bf5-9ec0-cd10fd3cf93e",
   "metadata": {},
   "outputs": [
    {
     "name": "stdout",
     "output_type": "stream",
     "text": [
      "Bell State Results:\n",
      "{'00': 499, '11': 501, '01': 0, '10': 0}\n"
     ]
    }
   ],
   "source": [
    "# APPENDIX D: Logical Construction of Bell Correlations \n",
    "# without Hilbert Space Formalism\n",
    "import numpy as np\n",
    "\n",
    "# Define basic states\n",
    "state0 = np.array([1, 0])\n",
    "state1 = np.array([0, 1])\n",
    "\n",
    "# Hadamard gate\n",
    "def H(state):\n",
    "    if np.allclose(state, state0):\n",
    "        return (state0 + state1) / np.sqrt(2)\n",
    "    else:\n",
    "        return (state0 - state1) / np.sqrt(2)\n",
    "\n",
    "# CNOT gate (symbolic flip logic)\n",
    "def CNOT(control, target):\n",
    "    if np.allclose(control, state0):\n",
    "        return control, target\n",
    "    else:\n",
    "        return control, np.flip(target)\n",
    "\n",
    "# Initialize qubits\n",
    "q1 = state0.copy()\n",
    "q2 = state0.copy()\n",
    "\n",
    "# Apply gates\n",
    "q1 = H(q1)\n",
    "q1, q2 = CNOT(q1, q2)\n",
    "\n",
    "# Simulate measurement\n",
    "results = {'00': 0, '11': 0, '01': 0, '10': 0}\n",
    "shots = 1000\n",
    "for _ in range(shots):\n",
    "    if np.random.rand() < q1[0]**2:\n",
    "        results['00'] += 1\n",
    "    else:\n",
    "        results['11'] += 1\n",
    "\n",
    "print(\"Bell State Results:\")\n",
    "print(results)\n"
   ]
  },
  {
   "cell_type": "code",
   "execution_count": null,
   "id": "e7a7dc77-dc09-4a39-bff1-592eed8f6263",
   "metadata": {},
   "outputs": [],
   "source": []
  }
 ],
 "metadata": {
  "kernelspec": {
   "display_name": "Python [conda env:base] *",
   "language": "python",
   "name": "conda-base-py"
  },
  "language_info": {
   "codemirror_mode": {
    "name": "ipython",
    "version": 3
   },
   "file_extension": ".py",
   "mimetype": "text/x-python",
   "name": "python",
   "nbconvert_exporter": "python",
   "pygments_lexer": "ipython3",
   "version": "3.12.2"
  }
 },
 "nbformat": 4,
 "nbformat_minor": 5
}
